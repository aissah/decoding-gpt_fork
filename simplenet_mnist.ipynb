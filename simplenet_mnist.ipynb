{
 "cells": [
  {
   "cell_type": "code",
   "execution_count": 5,
   "metadata": {},
   "outputs": [
    {
     "data": {
      "image/png": "[encoded data removed]",
      "text/plain": [
       "<Figure size 640x480 with 1 Axes>"
      ]
     },
     "metadata": {},
     "output_type": "display_data"
    },
    {
     "name": "stdout",
     "output_type": "stream",
     "text": [
      "Train Epoch: 1 [0/60000 (0%)]\tLoss: 2.298585\n",
      "Train Epoch: 1 [6400/60000 (11%)]\tLoss: 0.257543\n",
      "Train Epoch: 1 [12800/60000 (21%)]\tLoss: 0.407245\n",
      "Train Epoch: 1 [19200/60000 (32%)]\tLoss: 0.282178\n",
      "Train Epoch: 1 [25600/60000 (43%)]\tLoss: 0.177011\n",
      "Train Epoch: 1 [32000/60000 (53%)]\tLoss: 0.176683\n",
      "Train Epoch: 1 [38400/60000 (64%)]\tLoss: 0.125611\n",
      "Train Epoch: 1 [44800/60000 (75%)]\tLoss: 0.257741\n",
      "Train Epoch: 1 [51200/60000 (85%)]\tLoss: 0.163876\n",
      "Train Epoch: 1 [57600/60000 (96%)]\tLoss: 0.199151\n"
     ]
    }
   ],
   "source": [
    "import torch\n",
    "import torch.nn as nn\n",
    "import torch.optim as optim\n",
    "from torchvision import datasets, transforms\n",
    "from torch.utils.data import DataLoader\n",
    "from typing import Tuple\n",
    "\n",
    "# Neural Network with a single hidden layer\n",
    "class SimpleNet(nn.Module):\n",
    "    def __init__(self, input_size: int, hidden_size: int, num_classes: int) -> None:\n",
    "        super(SimpleNet, self).__init__()\n",
    "        self.fc1 = nn.Linear(input_size, hidden_size) \n",
    "        self.relu = nn.ReLU()\n",
    "        self.fc2 = nn.Linear(hidden_size, num_classes)  \n",
    "\n",
    "    def forward(self, x: torch.Tensor) -> torch.Tensor:\n",
    "        out = self.fc1(x)\n",
    "        out = self.relu(out)\n",
    "        out = self.fc2(out)\n",
    "        return out\n",
    "\n",
    "def train(model: nn.Module, device: torch.device, train_loader: DataLoader, optimizer: optim.Optimizer, epoch: int) -> None:\n",
    "    model.train()\n",
    "    for batch_idx, (data, target) in enumerate(train_loader):\n",
    "        data, target = data.to(device), target.to(device)\n",
    "        data = data.view(data.size(0), -1)  # Flatten the images\n",
    "        optimizer.zero_grad()\n",
    "        output = model(data)\n",
    "        loss = nn.CrossEntropyLoss()(output, target)\n",
    "        loss.backward()\n",
    "        optimizer.step()\n",
    "\n",
    "        if batch_idx % 100 == 0:\n",
    "            print(f'Train Epoch: {epoch} [{batch_idx * len(data)}/{len(train_loader.dataset)} ({100. * batch_idx / len(train_loader):.0f}%)]\\tLoss: {loss.item():.6f}')\n",
    "\n",
    "def main() -> None:\n",
    "    # Hyperparameters\n",
    "    input_size: int = 784  # 28x28 images\n",
    "    hidden_size: int = 128\n",
    "    num_classes: int = 10\n",
    "    num_epochs: int = 1\n",
    "    batch_size: int = 64\n",
    "    learning_rate: float = 0.001\n",
    "\n",
    "    # Device configuration\n",
    "    device = torch.device('cuda' if torch.cuda.is_available() else 'cpu')\n",
    "\n",
    "    # MNIST dataset\n",
    "    train_dataset = datasets.MNIST(root='./data', train=True, transform=transforms.ToTensor(), download=True)\n",
    "    \n",
    "    import matplotlib.pyplot as plt\n",
    "    plt.imshow(train_dataset[0][0][0])\n",
    "    plt.title(f'Label: {train_dataset[0][1]}')\n",
    "    plt.show()\n",
    "    \n",
    "    train_loader = DataLoader(dataset=train_dataset, batch_size=batch_size, shuffle=True)\n",
    "\n",
    "    model = SimpleNet(input_size, hidden_size, num_classes).to(device)\n",
    "    optimizer = optim.Adam(model.parameters(), lr=learning_rate)\n",
    "\n",
    "    for epoch in range(1, num_epochs + 1):\n",
    "        train(model, device, train_loader, optimizer, epoch)\n",
    "        \n",
    "\n",
    "\treturn model\n",
    "    \n",
    "\n",
    "MODEL = main()\n"
   ]
  },
  {
   "cell_type": "code",
   "execution_count": null,
   "metadata": {},
   "outputs": [],
   "source": []
  }
 ],
 "metadata": {
  "kernelspec": {
   "display_name": "Python 3",
   "language": "python",
   "name": "python3"
  },
  "language_info": {
   "codemirror_mode": {
    "name": "ipython",
    "version": 3
   },
   "file_extension": ".py",
   "mimetype": "text/x-python",
   "name": "python",
   "nbconvert_exporter": "python",
   "pygments_lexer": "ipython3",
   "version": "3.11.4"
  },
  "orig_nbformat": 4
 },
 "nbformat": 4,
 "nbformat_minor": 2
}
