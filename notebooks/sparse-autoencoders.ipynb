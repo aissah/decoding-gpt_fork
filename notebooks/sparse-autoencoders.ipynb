{
 "cells": [
  {
   "cell_type": "markdown",
   "metadata": {},
   "source": [
    "# relevant papers/posts\n",
    "- [Toy Models of Superposition](https://transformer-circuits.pub/2022/toy_model/index.html)\n",
    "- [Towards Monosemanticity: Decomposing Language Models With Dictionary Learning](https://transformer-circuits.pub/2023/monosemantic-features/index.html)\n",
    "- [Sparse Autoencoders Find Highly Interpretable Features in Language Models](https://arxiv.org/abs/2309.08600)\n",
    "- [Toward A Mathematical Framework for Computation in Superposition](https://www.lesswrong.com/posts/2roZtSr5TGmLjXMnT/toward-a-mathematical-framework-for-computation-in)\n",
    "- [Neuronpedia](https://neuronpedia.org)"
   ]
  },
  {
   "cell_type": "markdown",
   "metadata": {},
   "source": [
    "![](assets/feature-superposition.png)"
   ]
  },
  {
   "cell_type": "markdown",
   "metadata": {},
   "source": [
    "![](assets/superposition-simulates.png)"
   ]
  },
  {
   "cell_type": "markdown",
   "metadata": {},
   "source": [
    "![](assets/sae-explanation.png)"
   ]
  },
  {
   "cell_type": "markdown",
   "metadata": {},
   "source": [
    "# setup"
   ]
  },
  {
   "cell_type": "code",
   "execution_count": 1,
   "metadata": {},
   "outputs": [],
   "source": [
    "import numpy as np\n",
    "import matplotlib.pyplot as plt\n",
    "import pandas as pd\n",
    "from sklearn.decomposition import PCA\n",
    "import torch\n",
    "from transformer_lens import HookedTransformer\n",
    "from tqdm import tqdm\n",
    "from transformer_lens.hook_points import HookPoint\n",
    "from jaxtyping import Float, Int\n",
    "from muutils.dictmagic import condense_tensor_dict"
   ]
  },
  {
   "cell_type": "code",
   "execution_count": 2,
   "metadata": {},
   "outputs": [],
   "source": [
    "def print_tensor_dict(d: dict[str, torch.Tensor]) -> None:\n",
    "\tprint(condense_tensor_dict(d, return_format=\"yaml\"))"
   ]
  },
  {
   "cell_type": "code",
   "execution_count": 3,
   "metadata": {},
   "outputs": [],
   "source": [
    "# load a subset of the tinystories dataset\n",
    "with open(\"../data/tinystories_10k.txt\", \"r\", encoding=\"utf-8\") as f:\n",
    "\tTEXT_DATA: list[str] = f.read().split(\"<|endoftext|>\")"
   ]
  },
  {
   "cell_type": "code",
   "execution_count": 4,
   "metadata": {},
   "outputs": [
    {
     "name": "stderr",
     "output_type": "stream",
     "text": [
      "c:\\Python\\Python3_11\\Lib\\site-packages\\torch\\_utils.py:776: UserWarning: TypedStorage is deprecated. It will be removed in the future and UntypedStorage will be the only storage class. This should only matter to you if you are using storages directly.  To access UntypedStorage directly, use tensor.untyped_storage() instead of tensor.storage()\n",
      "  return self.fget.__get__(instance, owner)()\n"
     ]
    },
    {
     "name": "stdout",
     "output_type": "stream",
     "text": [
      "Loaded pretrained model tiny-stories-1M into HookedTransformer\n"
     ]
    }
   ],
   "source": [
    "MODEL: HookedTransformer = HookedTransformer.from_pretrained(\"tiny-stories-1M\")"
   ]
  },
  {
   "cell_type": "code",
   "execution_count": 5,
   "metadata": {},
   "outputs": [
    {
     "data": {
      "application/vnd.jupyter.widget-view+json": {
       "model_id": "8ba839ca0a2847caa227e8c4162219bd",
       "version_major": 2,
       "version_minor": 0
      },
      "text/plain": [
       "  0%|          | 0/10 [00:00<?, ?it/s]"
      ]
     },
     "metadata": {},
     "output_type": "display_data"
    },
    {
     "data": {
      "text/plain": [
       "'Once upon a time, there was a big, little boy. He'"
      ]
     },
     "execution_count": 5,
     "metadata": {},
     "output_type": "execute_result"
    }
   ],
   "source": [
    "MODEL.generate(\"Once upon a time\", max_new_tokens=10)"
   ]
  },
  {
   "cell_type": "code",
   "execution_count": 6,
   "metadata": {},
   "outputs": [
    {
     "name": "stdout",
     "output_type": "stream",
     "text": [
      "d_model=64, n_layers=8, n_heads=16, d_vocab=50257\n"
     ]
    }
   ],
   "source": [
    "d_model: int = MODEL.cfg.d_model\n",
    "n_layers: int = MODEL.cfg.n_layers\n",
    "n_heads: int = MODEL.cfg.n_heads\n",
    "d_vocab: int = MODEL.cfg.d_vocab\n",
    "\n",
    "print(f\"{d_model=}, {n_layers=}, {n_heads=}, {d_vocab=}\")"
   ]
  },
  {
   "cell_type": "code",
   "execution_count": 7,
   "metadata": {},
   "outputs": [
    {
     "name": "stdout",
     "output_type": "stream",
     "text": [
      "embed:\n",
      "  W_E: (50257, 64)\n",
      "pos_embed:\n",
      "  W_pos: (2048, 64)\n",
      "blocks:\n",
      "  '[0-7]':\n",
      "    attn:\n",
      "      '[W_Q, W_K, W_V]': (16, 64, 4)\n",
      "      W_O: (16, 4, 64)\n",
      "      '[b_Q, b_K, b_V]': (16, 4)\n",
      "      b_O: (64,)\n",
      "      mask: (2048, 2048)\n",
      "      IGNORE: ()\n",
      "    mlp:\n",
      "      W_in: (64, 256)\n",
      "      b_in: (256,)\n",
      "      W_out: (256, 64)\n",
      "      b_out: (64,)\n",
      "unembed:\n",
      "  W_U: (64, 50257)\n",
      "  b_U: (50257,)\n",
      "\n"
     ]
    }
   ],
   "source": [
    "print_tensor_dict(MODEL.state_dict())"
   ]
  },
  {
   "cell_type": "markdown",
   "metadata": {},
   "source": [
    "# Looking at neurons directly\n",
    "\n",
    "first, let's see that superposition is an actual problem in practice"
   ]
  },
  {
   "cell_type": "code",
   "execution_count": 8,
   "metadata": {},
   "outputs": [],
   "source": [
    "logits, cache = MODEL.run_with_cache(TEXT_DATA[:3])"
   ]
  },
  {
   "cell_type": "code",
   "execution_count": 9,
   "metadata": {},
   "outputs": [
    {
     "name": "stdout",
     "output_type": "stream",
     "text": [
      "torch.Size([3, 190, 50257])\n"
     ]
    }
   ],
   "source": [
    "print(logits.shape)"
   ]
  },
  {
   "cell_type": "code",
   "execution_count": 10,
   "metadata": {},
   "outputs": [
    {
     "name": "stdout",
     "output_type": "stream",
     "text": [
      "blocks:\n",
      "  '[0-7]':\n",
      "    ln1:\n",
      "      hook_scale: (3, 190, 1)\n",
      "      hook_normalized: (3, 190, 64)\n",
      "    attn:\n",
      "      '[hook_q, hook_k, hook_v, hook_z]': (3, 190, 16, 4)\n",
      "      '[hook_attn_scores, hook_pattern]': (3, 16, 190, 190)\n",
      "    ln2:\n",
      "      hook_scale: (3, 190, 1)\n",
      "      hook_normalized: (3, 190, 64)\n",
      "    mlp:\n",
      "      '[hook_pre, hook_post]': (3, 190, 256)\n",
      "    '[hook_resid_pre, hook_attn_out, hook_resid_mid, hook_mlp_out, hook_resid_post]': (3,\n",
      "      190, 64)\n",
      "ln_final:\n",
      "  hook_scale: (3, 190, 1)\n",
      "  hook_normalized: (3, 190, 64)\n",
      "'[hook_embed, hook_pos_embed]': (3, 190, 64)\n",
      "\n"
     ]
    }
   ],
   "source": [
    "print_tensor_dict(cache)"
   ]
  },
  {
   "cell_type": "code",
   "execution_count": 11,
   "metadata": {},
   "outputs": [
    {
     "data": {
      "image/png": "[encoded data removed]",
      "text/plain": [
       "<Figure size 640x480 with 1 Axes>"
      ]
     },
     "metadata": {},
     "output_type": "display_data"
    }
   ],
   "source": [
    "_ = plt.hist(cache[\"blocks.0.hook_resid_post\"][0].flatten().cpu(), bins=100)"
   ]
  },
  {
   "cell_type": "code",
   "execution_count": 12,
   "metadata": {},
   "outputs": [
    {
     "name": "stdout",
     "output_type": "stream",
     "text": [
      "d_model = 64\n"
     ]
    }
   ],
   "source": [
    "n_samples: int = 200\n",
    "\n",
    "sample_activations: Float[torch.Tensor, \"len(TEXT_DATA) d_model\"] = torch.zeros(n_samples, d_model)\n",
    "\n",
    "print(f\"{d_model = }\")\n",
    "\n",
    "for idx, text in enumerate(TEXT_DATA[:n_samples]):\n",
    "\tlogits, cache = MODEL.run_with_cache([text])\n",
    "\tsample_activations[idx] = cache[\"blocks.0.hook_resid_post\"][0].mean(dim=0)"
   ]
  },
  {
   "cell_type": "code",
   "execution_count": 13,
   "metadata": {},
   "outputs": [
    {
     "name": "stdout",
     "output_type": "stream",
     "text": [
      "torch.Size([200, 64])\n",
      "torch.return_types.topk(\n",
      "values=tensor([0.0115, 0.0020]),\n",
      "indices=tensor([118,  63]))\n",
      "\n",
      "Once upon a time, there was an old dog named Spot. Spot had an itch on his back that he could not scratch. He tried and tried, but his legs were too short to reach the itch.\n",
      "One sunny day, Spot met a friendly cat named Fluffy. Fluffy saw Spot trying to scratch his itch and felt bad for him. Fluffy had an idea. \"I can help you with your itch, Spot,\" said Fluffy. \"Let's share our paws and help each other.\" Spot agreed, and they became friends.\n",
      "Fluffy used her paw to scratch Spot's itch, and he felt so much better. In return, Spot shared his favorite toy with Fluffy, and they played together all day. From that day on, Spot and Fluffy always shared their toys and helped each other when they had itches. And they lived happily ever after.\n",
      "\n",
      "--------------------\n",
      "\n",
      "Once upon a time, there was a clumsy dog named Spot. Spot loved to play and run around. One day, Spot and his family went to camp. Spot was so excited to go on a trip with his family.\n",
      "At camp, Spot played with his ball and made new friends. But one day, he lost his ball in the woods. Spot started to worry. He looked and looked for his ball, but he couldn't find it anywhere.\n",
      "Then, Spot saw a squirrel holding his ball. The squirrel saw how sad Spot was and gave the ball back to him. Spot was so happy! He thanked the squirrel and went back to camp. Spot learned not to worry too much, because things can work out in the end.\n",
      "\n",
      "--------------------\n",
      "\n",
      "\n",
      "\n",
      "Lily and Ben were bored. They wanted to play outside, but it was raining. They looked around the house for something fun to do. They saw a big box in the corner. It had a sign that said \"Do not open\".\n",
      "\"What is in there?\" Lily asked.\n",
      "\"I don't know. Let's find out,\" Ben said.\n",
      "They opened the box and saw many smaller boxes inside. They had holes and flaps and strings. They looked like a maze.\n",
      "\"Wow, this is cool. Let's make a maze with the boxes,\" Lily said.\n",
      "They took out the boxes and arranged them on the floor. They made a long and twisty maze with many turns and dead ends. They crawled inside and explored the maze. They had fun finding each other and hiding and making noises.\n",
      "They did not hear their mom come home. She walked into the living room and saw the mess. She was grumpy.\n",
      "\"What are you doing? Look at this mess. You are not supposed to open that box. It is for the charity sale,\" she said.\n",
      "Lily and Ben came out of the maze. They looked at their mom. They were sorry.\n",
      "\"We are sorry, mom. We were bored. We wanted to play. We discovered a maze in the box. It was fun,\" Lily said.\n",
      "Ben nodded. He said, \"We are sorry, mom. We did not know. We will help you clean up.\"\n",
      "Their mom sighed. She was not so grumpy anymore. She saw that they were just curious and creative. She smiled.\n",
      "\"It's okay, kids. I understand. But next time, please ask me before you open a box. And please be careful with the boxes. They are for a good cause. Now, let's clean up and then we can have a snack. How about that?\" she said.\n",
      "Lily and Ben smiled. They said, \"Okay, mom. Thank you, mom. We love you, mom.\"\n",
      "They hugged their mom and helped her clean up the maze. They learned a lesson and had a snack. They were happy.\n",
      "\n",
      "--------------------\n",
      "\n",
      "\n",
      "\n",
      "Lily and Tom were playing in the bath. They had many toys: a duck, a boat, a frog and a ball. They made the toys swim and splash in the water. They had fun.\n",
      "But then Lily saw something. The water was going down. It was going into a hole. The hole was called a drain. Lily did not like the drain. She was scared of it.\n",
      "\"Tom, look!\" Lily said. \"The water is becoming less. The drain is taking it away. What if it takes us away too?\"\n",
      "Tom looked at the drain. He was not scared of it. He was curious. He wanted to see how it worked.\n",
      "\"Don't worry, Lily,\" Tom said. \"The drain is not bad. It is just a little hole. It cannot take us away. We are too big. Only the water can go through it. See?\"\n",
      "Tom put his hand near the drain. He felt the water pulling his hand. He laughed.\n",
      "\"It tickles!\" Tom said. \"It is like a game. Do you want to try?\"\n",
      "Lily shook her head. She did not want to try. She did not like the game. She wanted the water to stay.\n",
      "\"Tom, stop!\" Lily said. \"I don't like the drain. I don't like the game. I want more water. Please, turn on the tap!\"\n",
      "Tom saw that Lily was sad. He did not want to make her sad. He wanted to make her happy. He turned on the tap. The water came out. It filled the bath again. The toys floated and bobbed. Lily smiled.\n",
      "\"Thank you, Tom,\" Lily said. \"You are a good brother. I like the water. I like the toys. I like you.\"\n",
      "Tom smiled too. He was a good brother. He liked the water. He liked the toys. He liked Lily.\n",
      "They hugged. They played. They forgot about the drain. They were happy.\n",
      "\n",
      "--------------------\n"
     ]
    }
   ],
   "source": [
    "print(sample_activations.shape)\n",
    "\n",
    "chosen_dimension_sample_activations = sample_activations[:, 5]\n",
    "top_k = torch.topk(chosen_dimension_sample_activations, k=2)\n",
    "bottom_k = torch.topk(chosen_dimension_sample_activations, k=2, largest=False)\n",
    "print(top_k)\n",
    "\n",
    "for idx in top_k.indices:\n",
    "\tprint(TEXT_DATA[idx])\n",
    "\tprint('-'*20)\n",
    "\n",
    "for idx in bottom_k.indices:\n",
    "\tprint(TEXT_DATA[idx])\n",
    "\tprint('-'*20)\n",
    "\n",
    "# plt.hist(chosen_dimension_sample_activations.cpu(), bins=50)"
   ]
  },
  {
   "cell_type": "markdown",
   "metadata": {},
   "source": [
    "## finding neurons that activate on a certain feature\n",
    "\n",
    "first, we need to come up with a feature and come up with some positive and negative examples"
   ]
  },
  {
   "cell_type": "code",
   "execution_count": 14,
   "metadata": {},
   "outputs": [],
   "source": [
    "# TODO"
   ]
  },
  {
   "cell_type": "markdown",
   "metadata": {},
   "source": [
    "# SAEs"
   ]
  },
  {
   "cell_type": "markdown",
   "metadata": {},
   "source": [
    "## set up the sparse autoencoder"
   ]
  },
  {
   "cell_type": "code",
   "execution_count": 15,
   "metadata": {},
   "outputs": [],
   "source": [
    "class SAE(torch.nn.Module):\n",
    "\tdef __init__(self, d_model: int, d_hidden: int):\n",
    "\t\tsuper(SAE, self).__init__()\n",
    "\t\tself.encoder: torch.nn.Module = torch.nn.Sequential(\n",
    "\t\t\ttorch.nn.Linear(d_model, d_hidden, bias=True),\n",
    "\t\t\ttorch.nn.ReLU(),\n",
    "\t\t)\n",
    "\t\tself.decoder: torch.nn.Module = torch.nn.Sequential(\n",
    "\t\t\ttorch.nn.Linear(d_hidden, d_model, bias=True),\n",
    "\t\t)\n",
    "\n",
    "\tdef forward(self, x: torch.Tensor) -> torch.Tensor:\n",
    "\t\treturn self.decoder(self.encoder(x))"
   ]
  },
  {
   "cell_type": "markdown",
   "metadata": {},
   "source": [
    "## set up the training loop"
   ]
  },
  {
   "cell_type": "code",
   "execution_count": 18,
   "metadata": {},
   "outputs": [
    {
     "name": "stderr",
     "output_type": "stream",
     "text": [
      "100%|██████████| 16/16 [00:04<00:00,  3.67it/s]\n"
     ]
    },
    {
     "name": "stdout",
     "output_type": "stream",
     "text": [
      "Epoch 0: 0.016180742837605067\n"
     ]
    },
    {
     "name": "stderr",
     "output_type": "stream",
     "text": [
      "100%|██████████| 16/16 [00:04<00:00,  3.93it/s]\n"
     ]
    },
    {
     "name": "stdout",
     "output_type": "stream",
     "text": [
      "Epoch 1: 0.0015572813135804608\n"
     ]
    },
    {
     "name": "stderr",
     "output_type": "stream",
     "text": [
      "100%|██████████| 16/16 [00:04<00:00,  3.92it/s]\n"
     ]
    },
    {
     "name": "stdout",
     "output_type": "stream",
     "text": [
      "Epoch 2: 0.0007762109671602957\n"
     ]
    },
    {
     "name": "stderr",
     "output_type": "stream",
     "text": [
      "100%|██████████| 16/16 [00:04<00:00,  3.93it/s]\n"
     ]
    },
    {
     "name": "stdout",
     "output_type": "stream",
     "text": [
      "Epoch 3: 0.0005092821174912388\n"
     ]
    },
    {
     "name": "stderr",
     "output_type": "stream",
     "text": [
      "100%|██████████| 16/16 [00:04<00:00,  3.93it/s]"
     ]
    },
    {
     "name": "stdout",
     "output_type": "stream",
     "text": [
      "Epoch 4: 0.00047132808322203346\n"
     ]
    },
    {
     "name": "stderr",
     "output_type": "stream",
     "text": [
      "\n"
     ]
    }
   ],
   "source": [
    "def train_sae(\n",
    "\tmodel: HookedTransformer,\n",
    "\tdataset: list[str] = TEXT_DATA[:256],\n",
    "\tbatchsize: int = 16,\n",
    "\tepochs: int = 10,\n",
    "\tsae_hidden: int = 128,\n",
    "\tlearning_rate: float = 1e-3,\n",
    "\tblock_id: int = 0,\n",
    "\tsparsity_coeff: float = 1e-3,\n",
    "\tdevice: torch.device|str = \"cuda\" if torch.cuda.is_available() else \"cpu\",\n",
    "):\n",
    "\t# dont keep gradients for the model\n",
    "\tmodel.eval()\n",
    "\td_model: int = model.cfg.d_model\n",
    "\tn_samples: int = len(dataset)\n",
    "\n",
    "\tsae: SAE = SAE(d_model, sae_hidden)\n",
    "\tsae.to(device)\n",
    "\toptimizer: torch.optim.Adam = torch.optim.Adam(sae.parameters(), lr=learning_rate)\n",
    "\treconstruction_loss: torch.nn.Module = torch.nn.MSELoss()\n",
    "\tsparsity_penalty: torch.nn.Module = torch.nn.L1Loss()\n",
    "\tsparsity_target: torch.Tensor = torch.zeros(batchsize, sae_hidden).to(device)\n",
    "\n",
    "\thook_id: str = f\"blocks.{block_id}.hook_resid_post\"\n",
    "\thook_cache: torch.Tensor = torch.zeros(batchsize, d_model).to(device)\n",
    "\n",
    "\tdef hook_fn(x: torch.Tensor, hook: HookPoint):\n",
    "\t\thook_cache = x\n",
    "\t\treturn None # we don't modify the activation\n",
    "\n",
    "\tfor epoch in range(epochs):\n",
    "\t\tepoch_loss: float = 0.0\n",
    "\t\tidx: int = 0\n",
    "\t\tfor batch_idx in tqdm(range(0, n_samples // batchsize)):\n",
    "\t\t\tif idx + batchsize > n_samples:\n",
    "\t\t\t\tbreak\n",
    "\t\t\tbatch = dataset[idx:idx+batchsize]\n",
    "\t\t\tidx += len(batch)\n",
    "\t\t\tmodel.run_with_hooks(\n",
    "\t\t\t\tbatch,\n",
    "\t\t\t\tfwd_hooks=[(\n",
    "\t\t\t\t\thook_id,\n",
    "\t\t\t\t\thook_fn,\n",
    "\t\t\t\t)],\n",
    "\t\t\t\treturn_type=None, # for efficiency\n",
    "\t\t\t)\n",
    "\t\t\tactivations: Float[torch.Tensor, \"batchsize d_model\"] = hook_cache\n",
    "\t\t\t# print(f\"{activations.shape=}\")\n",
    "\t\t\tactivations = activations.detach().to(device)\n",
    "\t\t\toptimizer.zero_grad()\n",
    "\t\t\thidden_activations: Float[torch.Tensor, \"len(batch) sae_hidden\"] = sae.encoder(activations)\n",
    "\t\t\treconstructed_activations: Float[torch.Tensor, \"len(batch) d_model\"] = sae.decoder(hidden_activations)\n",
    "\t\t\tloss = reconstruction_loss(reconstructed_activations, activations) + sparsity_coeff * sparsity_penalty(hidden_activations, sparsity_target)\n",
    "\t\t\tloss.backward()\n",
    "\t\t\toptimizer.step()\n",
    "\t\t\tepoch_loss += loss.item()\n",
    "\t\t\tdel activations\n",
    "\t\t\tdel hidden_activations\n",
    "\t\t\tdel reconstructed_activations\n",
    "\t\t\tdel loss\n",
    "\t\tprint(f\"Epoch {epoch}: {epoch_loss}\")\n",
    "\n",
    "\treturn sae\n",
    "\n",
    "\n",
    "TRAINED_SAE = train_sae(MODEL, epochs=5, sae_hidden=128, sparsity_coeff=1e-3)"
   ]
  },
  {
   "cell_type": "markdown",
   "metadata": {},
   "source": [
    "## find features which correspond to a sample of text"
   ]
  },
  {
   "cell_type": "code",
   "execution_count": null,
   "metadata": {},
   "outputs": [],
   "source": []
  }
 ],
 "metadata": {
  "kernelspec": {
   "display_name": "Python 3",
   "language": "python",
   "name": "python3"
  },
  "language_info": {
   "codemirror_mode": {
    "name": "ipython",
    "version": 3
   },
   "file_extension": ".py",
   "mimetype": "text/x-python",
   "name": "python",
   "nbconvert_exporter": "python",
   "pygments_lexer": "ipython3",
   "version": "3.11.4"
  },
  "orig_nbformat": 4
 },
 "nbformat": 4,
 "nbformat_minor": 2
}
