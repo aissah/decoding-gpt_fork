{
 "cells": [
  {
   "cell_type": "markdown",
   "metadata": {},
   "source": [
    "# relevant papers/posts\n",
    "- [Toy Models of Superposition](https://transformer-circuits.pub/2022/toy_model/index.html)\n",
    "- [Towards Monosemanticity: Decomposing Language Models With Dictionary Learning](https://transformer-circuits.pub/2023/monosemantic-features/index.html)\n",
    "- [Sparse Autoencoders Find Highly Interpretable Features in Language Models](https://arxiv.org/abs/2309.08600)\n",
    "- [Toward A Mathematical Framework for Computation in Superposition](https://www.lesswrong.com/posts/2roZtSr5TGmLjXMnT/toward-a-mathematical-framework-for-computation-in)\n",
    "- [Neuronpedia](https://neuronpedia.org)"
   ]
  },
  {
   "cell_type": "markdown",
   "metadata": {},
   "source": [
    "![](assets/feature-superposition.png)"
   ]
  },
  {
   "cell_type": "markdown",
   "metadata": {},
   "source": [
    "![](assets/superposition-simulates.png)"
   ]
  },
  {
   "cell_type": "markdown",
   "metadata": {},
   "source": [
    "![](assets/sae-explanation.png)"
   ]
  },
  {
   "cell_type": "markdown",
   "metadata": {},
   "source": [
    "# setup"
   ]
  },
  {
   "cell_type": "code",
   "execution_count": 1,
   "metadata": {},
   "outputs": [],
   "source": [
    "import numpy as np\n",
    "import matplotlib.pyplot as plt\n",
    "import pandas as pd\n",
    "from sklearn.decomposition import PCA\n",
    "import torch\n",
    "from transformer_lens import HookedTransformer\n",
    "from jaxtyping import Float, Int\n",
    "from muutils.dictmagic import condense_tensor_dict"
   ]
  },
  {
   "cell_type": "code",
   "execution_count": 2,
   "metadata": {},
   "outputs": [],
   "source": [
    "def print_tensor_dict(d: dict[str, torch.Tensor]) -> None:\n",
    "\tprint(condense_tensor_dict(d, return_format=\"yaml\"))"
   ]
  },
  {
   "cell_type": "code",
   "execution_count": 3,
   "metadata": {},
   "outputs": [],
   "source": [
    "# load a subset of the tinystories dataset\n",
    "with open(\"../data/tinystories_10k.txt\", \"r\", encoding=\"utf-8\") as f:\n",
    "\tTEXT_DATA: list[str] = f.read().split(\"<|endoftext|>\")"
   ]
  },
  {
   "cell_type": "code",
   "execution_count": 4,
   "metadata": {},
   "outputs": [
    {
     "name": "stderr",
     "output_type": "stream",
     "text": [
      "c:\\Python\\Python3_11\\Lib\\site-packages\\torch\\_utils.py:776: UserWarning: TypedStorage is deprecated. It will be removed in the future and UntypedStorage will be the only storage class. This should only matter to you if you are using storages directly.  To access UntypedStorage directly, use tensor.untyped_storage() instead of tensor.storage()\n",
      "  return self.fget.__get__(instance, owner)()\n"
     ]
    },
    {
     "name": "stdout",
     "output_type": "stream",
     "text": [
      "Loaded pretrained model tiny-stories-3M into HookedTransformer\n"
     ]
    }
   ],
   "source": [
    "MODEL: HookedTransformer = HookedTransformer.from_pretrained(\"tiny-stories-3M\")"
   ]
  },
  {
   "cell_type": "code",
   "execution_count": 5,
   "metadata": {},
   "outputs": [
    {
     "data": {
      "application/vnd.jupyter.widget-view+json": {
       "model_id": "c2ae3ca5e8be4b72b24697872d064b8b",
       "version_major": 2,
       "version_minor": 0
      },
      "text/plain": [
       "  0%|          | 0/10 [00:00<?, ?it/s]"
      ]
     },
     "metadata": {},
     "output_type": "display_data"
    },
    {
     "data": {
      "text/plain": [
       "'Once upon a time, there was a little boy named Timmy.'"
      ]
     },
     "execution_count": 5,
     "metadata": {},
     "output_type": "execute_result"
    }
   ],
   "source": [
    "MODEL.generate(\"Once upon a time\", max_new_tokens=10)"
   ]
  },
  {
   "cell_type": "code",
   "execution_count": 6,
   "metadata": {},
   "outputs": [
    {
     "name": "stdout",
     "output_type": "stream",
     "text": [
      "d_model=128, n_layers=8, n_heads=16, d_vocab=50257\n"
     ]
    }
   ],
   "source": [
    "d_model: int = MODEL.cfg.d_model\n",
    "n_layers: int = MODEL.cfg.n_layers\n",
    "n_heads: int = MODEL.cfg.n_heads\n",
    "d_vocab: int = MODEL.cfg.d_vocab\n",
    "\n",
    "print(f\"{d_model=}, {n_layers=}, {n_heads=}, {d_vocab=}\")"
   ]
  },
  {
   "cell_type": "code",
   "execution_count": 7,
   "metadata": {},
   "outputs": [
    {
     "name": "stdout",
     "output_type": "stream",
     "text": [
      "embed:\n",
      "  W_E: (50257, 128)\n",
      "pos_embed:\n",
      "  W_pos: (2048, 128)\n",
      "blocks:\n",
      "  '[0-7]':\n",
      "    attn:\n",
      "      '[W_Q, W_K, W_V]': (16, 128, 8)\n",
      "      W_O: (16, 8, 128)\n",
      "      '[b_Q, b_K, b_V]': (16, 8)\n",
      "      b_O: (128,)\n",
      "      mask: (2048, 2048)\n",
      "      IGNORE: ()\n",
      "    mlp:\n",
      "      W_in: (128, 512)\n",
      "      b_in: (512,)\n",
      "      W_out: (512, 128)\n",
      "      b_out: (128,)\n",
      "unembed:\n",
      "  W_U: (128, 50257)\n",
      "  b_U: (50257,)\n",
      "\n"
     ]
    }
   ],
   "source": [
    "print_tensor_dict(MODEL.state_dict())"
   ]
  },
  {
   "cell_type": "markdown",
   "metadata": {},
   "source": [
    "# Looking at neurons directly\n",
    "\n",
    "first, let's see that superposition is an actual problem in practice"
   ]
  },
  {
   "cell_type": "code",
   "execution_count": 8,
   "metadata": {},
   "outputs": [],
   "source": [
    "logits, cache = MODEL.run_with_cache(TEXT_DATA[:3])"
   ]
  },
  {
   "cell_type": "code",
   "execution_count": 9,
   "metadata": {},
   "outputs": [
    {
     "name": "stdout",
     "output_type": "stream",
     "text": [
      "torch.Size([3, 190, 50257])\n"
     ]
    }
   ],
   "source": [
    "print(logits.shape)"
   ]
  },
  {
   "cell_type": "code",
   "execution_count": 10,
   "metadata": {},
   "outputs": [
    {
     "name": "stdout",
     "output_type": "stream",
     "text": [
      "blocks:\n",
      "  '[0-7]':\n",
      "    ln1:\n",
      "      hook_scale: (3, 190, 1)\n",
      "      hook_normalized: (3, 190, 128)\n",
      "    attn:\n",
      "      '[hook_q, hook_k, hook_v, hook_z]': (3, 190, 16, 8)\n",
      "      '[hook_attn_scores, hook_pattern]': (3, 16, 190, 190)\n",
      "    ln2:\n",
      "      hook_scale: (3, 190, 1)\n",
      "      hook_normalized: (3, 190, 128)\n",
      "    mlp:\n",
      "      '[hook_pre, hook_post]': (3, 190, 512)\n",
      "    '[hook_resid_pre, hook_attn_out, hook_resid_mid, hook_mlp_out, hook_resid_post]': (3,\n",
      "      190, 128)\n",
      "ln_final:\n",
      "  hook_scale: (3, 190, 1)\n",
      "  hook_normalized: (3, 190, 128)\n",
      "'[hook_embed, hook_pos_embed]': (3, 190, 128)\n",
      "\n"
     ]
    }
   ],
   "source": [
    "print_tensor_dict(cache)"
   ]
  },
  {
   "cell_type": "code",
   "execution_count": 15,
   "metadata": {},
   "outputs": [
    {
     "data": {
      "image/png": "[encoded data removed]",
      "text/plain": [
       "<Figure size 640x480 with 1 Axes>"
      ]
     },
     "metadata": {},
     "output_type": "display_data"
    }
   ],
   "source": [
    "_ = plt.hist(cache[\"blocks.0.hook_resid_post\"][0].flatten().cpu(), bins=100)"
   ]
  },
  {
   "cell_type": "markdown",
   "metadata": {},
   "source": [
    "## finding neurons that activate on a certain feature\n",
    "\n",
    "first, we need to come up with a feature and come up with some positive and negative examples"
   ]
  },
  {
   "cell_type": "code",
   "execution_count": null,
   "metadata": {},
   "outputs": [],
   "source": []
  },
  {
   "cell_type": "markdown",
   "metadata": {},
   "source": [
    "# SAEs"
   ]
  },
  {
   "cell_type": "markdown",
   "metadata": {},
   "source": [
    "## set up the sparse autoencoder"
   ]
  },
  {
   "cell_type": "code",
   "execution_count": null,
   "metadata": {},
   "outputs": [],
   "source": [
    "class SAE(torch.nn.Module):\n",
    "\tdef __init__(self, d_model: int, d_hidden: int):\n",
    "\t\tsuper(SAE, self).__init__()\n",
    "\t\tself.encoder: torch.nn.Module = None # ...\n",
    "\t\tself.decoder: torch.nn.Module = None # ...\n",
    "\n",
    "\tdef forward(self, x: torch.Tensor) -> torch.Tensor:\n",
    "\t\t# ...\n",
    "\t\tpass"
   ]
  },
  {
   "cell_type": "markdown",
   "metadata": {},
   "source": [
    "## set up the training loop"
   ]
  },
  {
   "cell_type": "code",
   "execution_count": null,
   "metadata": {},
   "outputs": [],
   "source": [
    "def train_sae(\n",
    "\tmodel: HookedTransformer,\n",
    "\tdataset: list[str] = TEXT_DATA,\n",
    "\tbatchsize: int = 32,\n",
    "\tepochs: int = 10,\n",
    "\tsae_hidden: int = 128,\n",
    "\tlearning_rate: float = 1e-3,\n",
    "):\n",
    "\t# ...\n",
    "\tpass"
   ]
  },
  {
   "cell_type": "markdown",
   "metadata": {},
   "source": [
    "## find features which correspond to a sample of text"
   ]
  },
  {
   "cell_type": "code",
   "execution_count": null,
   "metadata": {},
   "outputs": [],
   "source": []
  }
 ],
 "metadata": {
  "kernelspec": {
   "display_name": "Python 3",
   "language": "python",
   "name": "python3"
  },
  "language_info": {
   "codemirror_mode": {
    "name": "ipython",
    "version": 3
   },
   "file_extension": ".py",
   "mimetype": "text/x-python",
   "name": "python",
   "nbconvert_exporter": "python",
   "pygments_lexer": "ipython3",
   "version": "3.11.4"
  },
  "orig_nbformat": 4
 },
 "nbformat": 4,
 "nbformat_minor": 2
}
